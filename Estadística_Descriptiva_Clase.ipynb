{
  "nbformat": 4,
  "nbformat_minor": 0,
  "metadata": {
    "colab": {
      "name": "Estadística Descriptiva_Clase",
      "provenance": [],
      "authorship_tag": "ABX9TyPx7AaM1RF7neFpVxW7RCnw",
      "include_colab_link": true
    },
    "kernelspec": {
      "name": "ir",
      "display_name": "R"
    },
    "language_info": {
      "name": "R"
    }
  },
  "cells": [
    {
      "cell_type": "markdown",
      "metadata": {
        "id": "view-in-github",
        "colab_type": "text"
      },
      "source": [
        "<a href=\"https://colab.research.google.com/github/MayraDemoss1/paginaweb/blob/main/Estad%C3%ADstica_Descriptiva_Clase.ipynb\" target=\"_parent\"><img src=\"https://colab.research.google.com/assets/colab-badge.svg\" alt=\"Open In Colab\"/></a>"
      ]
    },
    {
      "cell_type": "markdown",
      "metadata": {
        "id": "RBgunQAqYHN6"
      },
      "source": [
        "<center>\n",
        "\n",
        "# **Estadística Descriptiva**\n",
        "</center>\n",
        "\n",
        "<div style=\"text-align: justify\">\n",
        "\n",
        "Las herramientas de la Estadística descriptiva se encargan de organizar, presentar y describir un conjunto de datos para tomar decisiones. Principalmente son tablas, gráficas y ciertas cantidades numéricas.\n",
        "\n",
        "Recordar en lo sucesivo que habrá ocasiones en las que los datos a describir forman parte de una muestra y que en otras ocasiones pueden ser la población de interés y que por lo tanto el nombre y la forma en que se definen las cantidades numéricas varía.\n",
        "\n",
        "<div/>\n",
        "\n",
        "|Parámetro|Estimador||\n",
        "|--- |--- |---|\n",
        "|$\\mu$|$\\overline{x}$|Promedio|\n",
        "|$P$|$\\hat{p}$|Proporción|\n",
        "|$\\sigma^2$ | $s^2$|Varianza|\n",
        "|$P_j$|$p_j$|Percentil|\n",
        "|$\\tau$|$t$|Total|\n",
        "\n",
        "##**Las seis características de los datos**\n",
        "\n",
        "<div style=\"text-align: justify\">\n",
        "\n",
        "En estas notas se estudian las herramientas estadísticas esenciales en el análisis descriptivo de los datos, considerando las seis siguientes caractarísticas, y que además permitirán una buena selección de las herramientas de la inferencia estadística. \n",
        "\n",
        "<div/>\n",
        "\n",
        "1. Localización o ubicación\n",
        "2. Dispersión, variabilidad o heterogeneidad\n",
        "3. Distribución de frecuencias o forma de la distribución\n",
        "4. Valores extremos o atípicos (outliers) \n",
        "5. Agrupamientos (clustering)\n",
        "6. Correlación\n",
        "\n",
        "\n",
        "---\n",
        "### **Actividad 6.** Descripción de los datos\n",
        "<div style=\"text-align: justify\">\n",
        "\n",
        "\n",
        "La corrosión del acero de refuerzo en un serio problema en las estructuras de concreto en ambientes afectados por condiciones climáticas severas. Por ello los investigadores han analizado el uso de barras de refuerzo fabricadas de un material compuesto. Se realizó un estudio para desarrollar directrices para adherir barras de refuerzo reforzadas con fibra de vidrio al concreto. En la tabla siguiente se presentan los datos correspondientes a 20 mediciones de la fuerza adhesiva.\n",
        "\n",
        "\n",
        "<div/>\n",
        "\n",
        "\n",
        "\n",
        "|              Fuerza adhesiva                    |\n",
        "|:------------------------------------------------|\n",
        "|11.5, 5.7, 3.6, 5.2, 12.1,5.4, 3.4, 5.5,25.5,5.1,|\n",
        "|20.6, 5.1, 7.8, 4.9, 13.8, 5.2, 6.2, 10.7, 12.6, 4.8|\n",
        "\n",
        "\n",
        "\n",
        "\n",
        "\n",
        "\n",
        "\n",
        "\n",
        "\n",
        "\n",
        "\n",
        "\n",
        "\n",
        "\n",
        "\n",
        "\n",
        "\n"
      ]
    },
    {
      "cell_type": "markdown",
      "source": [
        "**a) Crear el vector \"fuerza\"**"
      ],
      "metadata": {
        "id": "O8SUpdJ2MKVh"
      }
    },
    {
      "cell_type": "code",
      "source": [
        "\n",
        "\n",
        "\n"
      ],
      "metadata": {
        "id": "ixmf4yuGHpFT"
      },
      "execution_count": null,
      "outputs": []
    },
    {
      "cell_type": "markdown",
      "source": [
        "###**Tendencia central:**\n",
        "\n",
        "\n",
        "#### **Media, promedio, media aritmética o valor esperado (esperanza matemática)**\n",
        "\n",
        "$$Media \\: muestral = \\bar{x} = \\frac{1}{n} \\sum_{i=1}^{n}{x_i} $$\n",
        "$$Media \\: poblacional = \\mu = \\frac{1}{N} \\sum_{i=1}^{N}{X_i} $$\n",
        "\n",
        "####**Mediana.**\n",
        "\n",
        " <center>Si n es impar: $$X_{(n+1/2)}$$  \n",
        "\n",
        "Si n es par:$$\\frac{1}{2}(X_{(n/2)}+ X_{(n/2+1)}) $$ \n",
        "</center>  \n",
        "\n",
        "\n",
        "\n",
        "####**Moda**\n",
        "Es el valor que aparece con mayor frecuencia en el conjunto de datos.\n",
        "\n"
      ],
      "metadata": {
        "id": "--e6WLDCI-fy"
      }
    },
    {
      "cell_type": "markdown",
      "source": [
        "**b) Estimar las medidas de T.C**"
      ],
      "metadata": {
        "id": "l4iiKSXZL_03"
      }
    },
    {
      "cell_type": "code",
      "source": [
        "# Estimar el valor de la media\n",
        "\n",
        "\n",
        "#Estimar el valor de la mediana\n",
        "\n",
        "\n",
        "#Estimar el valor de la moda\n"
      ],
      "metadata": {
        "id": "ABsPwOkSO8fm"
      },
      "execution_count": null,
      "outputs": []
    },
    {
      "cell_type": "markdown",
      "source": [
        "![](https://mucioosorio.github.io/probabilidad/figs/06_forma-datos.png)\n",
        "\n",
        "\n",
        "![](http://upload.wikimedia.org/wikipedia/commons/b/bc/Bimodal_geological.PNG)\n",
        "\n"
      ],
      "metadata": {
        "id": "lX-WvaOjQYZr"
      }
    },
    {
      "cell_type": "markdown",
      "source": [
        "**c. ¿Cuál valor representa la fuerza adhesiva?**"
      ],
      "metadata": {
        "id": "3qzspkljPM2s"
      }
    },
    {
      "cell_type": "markdown",
      "source": [
        "Dar doble clic para responder:"
      ],
      "metadata": {
        "id": "-PHE3LJmPXxY"
      }
    },
    {
      "cell_type": "markdown",
      "source": [
        "###**Medidas de disperción**\n",
        "\n",
        "$Amplitud= Valor Máximo - Valor Mínimo$\n",
        "\n",
        "\n",
        "$$s^2=\\frac{1}{n-1}{\\sum_{i=1}^{n}\\left(x_i-\\bar{x}\\right)^2}$$\n",
        "\n",
        "$$\\sigma^2=\\frac{1}{N}{\\sum_{i=1}^{N}\\left(x_i-\\mu\\right)^2}$$\n",
        "\n",
        "**Desviación estándar o típica.** Se calcula como raíz cuadrada de la varianza.\n",
        "\n",
        "\n",
        "$Amplitud intercuartil= Q_3 -Q_1$"
      ],
      "metadata": {
        "id": "Z3YvTnDhYb7w"
      }
    },
    {
      "cell_type": "markdown",
      "source": [
        "**d) Estima las medidas de dispersión.**"
      ],
      "metadata": {
        "id": "tDcvUzSSaSQL"
      }
    },
    {
      "cell_type": "code",
      "source": [
        "#Estimar el rango\n",
        "\n",
        "\n",
        "# Estimar la varianza muestral\n",
        "\n",
        "\n",
        "#Estimar la varianza poblacional\n",
        "\n",
        "\n",
        "#Estimar la desviación muestral\n",
        "\n",
        "\n",
        "#Estimar la desviación poblacional\n",
        "\n",
        "\n",
        "#Estimar el rango intercuartil"
      ],
      "metadata": {
        "id": "XqmB4PxFaXY1"
      },
      "execution_count": null,
      "outputs": []
    },
    {
      "cell_type": "markdown",
      "source": [
        "**e) Entre qué valores se encuentra la fuerza adhesiva?**"
      ],
      "metadata": {
        "id": "Djbad53qbcUl"
      }
    },
    {
      "cell_type": "markdown",
      "source": [
        "**Dar doble clic para responder:**\n",
        "\n",
        "\n",
        "---\n",
        "\n"
      ],
      "metadata": {
        "id": "RU6kYpjQiT9F"
      }
    },
    {
      "cell_type": "markdown",
      "source": [
        "---\n",
        "### **Actividad 7.** Identificación de conceptos y descripción de los datos\n",
        "<div style=\"text-align: justify\">\n",
        "\n",
        "\n",
        "Para conocer el tiempo que tardan en trasladarse de su casa a la escuela los estudiantes ITSON se realizó una prueba piloto. La información requerida se obtuvo a través de una encuesta, utilizando dicha información realiza lo siguiente:\n",
        "\n",
        "\n",
        "<div/>\n",
        "\n",
        "\n",
        "\n",
        "|             Tiempo de traslado                  |\n",
        "|:------------------------------------------------|\n",
        "|5, 6, 8, 10, 15, 15, 20, 20, 20, 30, 40, 40, 45, 50, 60,60, 60, 70, 80, 80|\n"
      ],
      "metadata": {
        "id": "n9xbrFchqu4Y"
      }
    },
    {
      "cell_type": "markdown",
      "source": [
        "**a) Crear el vector \"tiempo\"**"
      ],
      "metadata": {
        "id": "l7jWqZ17q5KJ"
      }
    },
    {
      "cell_type": "code",
      "source": [
        "\n",
        "\n",
        "# Estimar el valor de la media\n",
        "\n",
        "\n",
        "#Estimar el valor de la mediana\n",
        "\n",
        "\n",
        "#Estimar el valor de la moda\n",
        "\n"
      ],
      "metadata": {
        "id": "ZyFQCw2Cq6J3"
      },
      "execution_count": null,
      "outputs": []
    },
    {
      "cell_type": "markdown",
      "source": [
        "**b)Realizar una descripción de los datos**"
      ],
      "metadata": {
        "id": "aco82Ln3q-eN"
      }
    },
    {
      "cell_type": "code",
      "source": [
        "#Estimar el rango\n",
        "\n",
        "\n",
        "# Estimar la varianza muestral\n",
        "\n",
        "\n",
        "#Estimar la varianza poblacional\n",
        "\n",
        "\n",
        "#Estimar la desviación muestral\n",
        "\n",
        "\n",
        "#Estimar la desviación poblacional\n",
        "\n",
        "\n",
        "#Estimar el rango intercuartil"
      ],
      "metadata": {
        "id": "wUGgzeQSrM_2"
      },
      "execution_count": null,
      "outputs": []
    },
    {
      "cell_type": "markdown",
      "source": [
        "**c)Indica cual es el valor que representa el tiempo que tardan en trasladarse los estudiantes.**"
      ],
      "metadata": {
        "id": "nR35W8HxrXLe"
      }
    },
    {
      "cell_type": "markdown",
      "source": [
        "**Doble clic para responder:**"
      ],
      "metadata": {
        "id": "tQ3rY-1Frdd1"
      }
    },
    {
      "cell_type": "markdown",
      "source": [
        "**d)¿Tardan más en trasladarse los hombres o las mujeres? ¿En dónde existe más variación?**"
      ],
      "metadata": {
        "id": "4qODSv83rsFn"
      }
    },
    {
      "cell_type": "markdown",
      "source": [
        "**Doble clic para responder:**\n",
        "\n",
        "\n",
        "---\n",
        "\n"
      ],
      "metadata": {
        "id": "BcqABCE4rucb"
      }
    },
    {
      "cell_type": "markdown",
      "source": [
        "###**Actividad 8** Métodos gráficos y TDF\n",
        "\n",
        "<div style=\"text-align: justify\">\n",
        "Considerando que el tiempo de traslado de los estudiantes ITSON es un indicador de la distancia que existe entre su casa y la escuela. Responde las siguientes preguntas utilizando gráficos.\n",
        "<div/>"
      ],
      "metadata": {
        "id": "854Q6bGNicHl"
      }
    },
    {
      "cell_type": "markdown",
      "source": [
        "**a)¿Viven más alumnos cerca o lejos?**"
      ],
      "metadata": {
        "id": "aRWdHtVLjovf"
      }
    },
    {
      "cell_type": "code",
      "source": [
        "\n",
        "\n",
        "\n"
      ],
      "metadata": {
        "id": "OgdLoq5tjsNv"
      },
      "execution_count": null,
      "outputs": []
    },
    {
      "cell_type": "markdown",
      "source": [
        "**Doble clic para responder:**"
      ],
      "metadata": {
        "id": "xy7DZtLVj2EP"
      }
    },
    {
      "cell_type": "markdown",
      "source": [
        "**b)Si se considera la siguiente clasificación, ¿en dónde hay más alumnos?**​\n",
        "\n",
        "Alumnos que viven más cerca​\n",
        "\n",
        "Alumnos que viven menos cerca​\n",
        "\n",
        "Alumnos que viven menos lejos​\n",
        "\n",
        "Alumnos que viven más lejos"
      ],
      "metadata": {
        "id": "HKnBg0q7nub4"
      }
    },
    {
      "cell_type": "code",
      "source": [
        "\n",
        "\n",
        "\n"
      ],
      "metadata": {
        "id": "fTB9ZTZVn6yn"
      },
      "execution_count": null,
      "outputs": []
    },
    {
      "cell_type": "markdown",
      "source": [
        "**c) ¿Entre qué valores se encuentran la mayoría de los tiempos?**​\n",
        "\n",
        "**d) ¿Entre qué valores se encuentra la mayor frecuencia de tiempos?**"
      ],
      "metadata": {
        "id": "Wluvj5Qdojpb"
      }
    },
    {
      "cell_type": "markdown",
      "source": [
        "**Dar doble clic para responder:**"
      ],
      "metadata": {
        "id": "7qZuoBvRo_OU"
      }
    },
    {
      "cell_type": "markdown",
      "source": [
        "**Conclusiones?**"
      ],
      "metadata": {
        "id": "yYDq7sJBpQ7e"
      }
    },
    {
      "cell_type": "markdown",
      "source": [
        "**Doble clic para responder:**\n",
        "\n",
        "\n",
        "---\n",
        "\n"
      ],
      "metadata": {
        "id": "Lk8G4HHIpT4C"
      }
    },
    {
      "cell_type": "markdown",
      "source": [
        "**e)Elaborar una tabla de distribución de frecuencias(TDF)**\n",
        "\n",
        "**Paso 1.** Definir el número de intervalos:$$ N.I=\\sqrt{n}$$\n",
        "\n",
        "**Paso 2.** Determinar la amplitud de intervalo:$$AI=\\frac{Rango}{N.I}$$"
      ],
      "metadata": {
        "id": "qSP72a77psMY"
      }
    },
    {
      "cell_type": "code",
      "source": [
        "\n",
        "\n"
      ],
      "metadata": {
        "id": "pRKwiIqLqAE0"
      },
      "execution_count": null,
      "outputs": []
    },
    {
      "cell_type": "markdown",
      "source": [
        "**Conclusiones:**\n",
        "\n",
        "\n",
        "---\n",
        "\n"
      ],
      "metadata": {
        "id": "8vYn4a5kqlyr"
      }
    },
    {
      "cell_type": "markdown",
      "source": [
        "###**Actividad 9.**Utilidad y construcción de métodos gráficos y TDF"
      ],
      "metadata": {
        "id": "DPYRMZXhrQ3d"
      }
    },
    {
      "cell_type": "markdown",
      "source": [
        "<div style=\"text-align: justify\">\n",
        "Las compañías generadoras de electricidad requieren información sobre el consumo (en BTU) de los clientes para obtener pronósticos precisos de la demanda. A continuación se presentan los consumos realizados en 30 hogares.\n",
        "<div/>\n",
        "\n",
        "\n",
        "|             Consumo de energía (BTU)                   |\n",
        "|:------------------------------------------------|\n",
        "|2.97, 6.8, 7.73, 8.61, 9.6, 10.28, 11.12, 12.31, 13.47, 4,|\n",
        "|6.85, 7.87, 8.67, 9.76, 10.3, 11.21, 12.62, 13.6, 5.2, 6.94,|\n",
        "|5.2, 6.94,7.93, 8.69, 9.82, 10.35, 11.29, 12.69, 13.96, 5.56|"
      ],
      "metadata": {
        "id": "DNu75IfJrgQN"
      }
    },
    {
      "cell_type": "markdown",
      "source": [
        "**a)Elabora un gráfico para responder lo siguiente:​**\n",
        "\n",
        "*   En cuanto a los hogares, ¿hubo más con consumo bajo o alto? \n",
        "*   Si se considera la siguiente clasificación, ¿en dónde hay más hogares?​\n",
        "\n",
        "        Hogares con consumo más bajo.​\n",
        "\n",
        "        Hogares con consumo menos bajo.​\n",
        "\n",
        "        Hogares con consumo menos alto.​\n",
        "\n",
        "        Hogares con consumo más alto.​"
      ],
      "metadata": {
        "id": "i1UWkg2NtGKF"
      }
    },
    {
      "cell_type": "code",
      "source": [
        "\n",
        "\n",
        "\n"
      ],
      "metadata": {
        "id": "RG9p6Y_YtrHG"
      },
      "execution_count": null,
      "outputs": []
    },
    {
      "cell_type": "markdown",
      "source": [
        "**Dar doble clic para responder:**\n",
        "\n",
        "\n",
        "---\n",
        "\n"
      ],
      "metadata": {
        "id": "qQckxsb-tpaf"
      }
    },
    {
      "cell_type": "markdown",
      "source": [
        "###**Actividad 11.** Utilidad y construcción de métodos gráficos ​y medidas de dispersión\n",
        "\n",
        "Utilizando las varibles “tiempo de traslado y edad” de los estudiantes ITSON, realiza lo siguiente:"
      ],
      "metadata": {
        "id": "2Pl-8xcZv-6q"
      }
    },
    {
      "cell_type": "markdown",
      "source": [
        "**a)¿Cuál es el tiempo de traslado más común?**"
      ],
      "metadata": {
        "id": "5AcqrRsCw_o-"
      }
    },
    {
      "cell_type": "code",
      "source": [
        "\n",
        "\n"
      ],
      "metadata": {
        "id": "KS4Y1uS4xMyz"
      },
      "execution_count": null,
      "outputs": []
    },
    {
      "cell_type": "markdown",
      "source": [
        "**b)Tomando en cuenta el tiempo de traslado, ¿En dónde existe más variación?**"
      ],
      "metadata": {
        "id": "WDLPIeDJxOr0"
      }
    },
    {
      "cell_type": "markdown",
      "source": [
        "**Cinco estaísticos para elaborar el boxplot**\n",
        "\n",
        "\n",
        "\n",
        "*   Valor mínimo\n",
        "*  Posición del cuartil 1: $Q_1=(n+1)\\frac{25}{100}$\n",
        "\n",
        "\n",
        "*   Mediana\n",
        "*   Posición del cuartil 3: $Q_1=(n+1)\\frac{75}{100}$\n",
        "\n",
        "\n",
        "*   Valor maxímo\n",
        "\n"
      ],
      "metadata": {
        "id": "h9PXhn9Cx319"
      }
    },
    {
      "cell_type": "code",
      "source": [
        "\n",
        "\n"
      ],
      "metadata": {
        "id": "CYIJyzTKxW21"
      },
      "execution_count": null,
      "outputs": []
    },
    {
      "cell_type": "markdown",
      "source": [
        "Doble clic para dar respuesta."
      ],
      "metadata": {
        "id": "mxv4ijIdzX0M"
      }
    },
    {
      "cell_type": "markdown",
      "source": [
        "**c) ¿Cuál es la edad más común?**"
      ],
      "metadata": {
        "id": "DVQYHqRuz4-3"
      }
    },
    {
      "cell_type": "code",
      "source": [
        "\n",
        "\n"
      ],
      "metadata": {
        "id": "LoKQgEgU0Bya"
      },
      "execution_count": null,
      "outputs": []
    },
    {
      "cell_type": "markdown",
      "source": [
        "**Doble clic parar responder:**\n",
        "\n",
        "\n",
        "---\n",
        "\n"
      ],
      "metadata": {
        "id": "IEaibSVG0Cnw"
      }
    },
    {
      "cell_type": "markdown",
      "source": [
        "###**Actividad 13.** Construcción de métodos gráficos y medidas de dispersión\n",
        "\n",
        "<div style=\"text-align: justify\">\n",
        "Con la información correspondiente al consumo de energía eléctrica (proporcionada en la actividad 6), elaborar gráficos que permita dar respuesta a los siguientes cuestionamientos:\n",
        "<div/>"
      ],
      "metadata": {
        "id": "S5qvVtYu0TJg"
      }
    },
    {
      "cell_type": "markdown",
      "source": [
        "a)¿Cuál es el consumo más común? Elaborar dos gráficos."
      ],
      "metadata": {
        "id": "Lq26oyQ41BCC"
      }
    },
    {
      "cell_type": "code",
      "source": [
        "\n",
        "\n",
        "\n"
      ],
      "metadata": {
        "id": "vC62E4sm1Irr"
      },
      "execution_count": null,
      "outputs": []
    },
    {
      "cell_type": "markdown",
      "source": [
        "**Doble clic para responder:**"
      ],
      "metadata": {
        "id": "xBQoGVc21M6t"
      }
    },
    {
      "cell_type": "markdown",
      "source": [
        ""
      ],
      "metadata": {
        "id": "84GceOxz1Pmi"
      }
    },
    {
      "cell_type": "markdown",
      "source": [
        "b)¿Cómo es la distribución de los datos (normal, sesgada)? Justificar respuesta."
      ],
      "metadata": {
        "id": "BHBKG3lL1l8K"
      }
    },
    {
      "cell_type": "code",
      "source": [
        "\n",
        "\n"
      ],
      "metadata": {
        "id": "JMw-9OqZ1pkj"
      },
      "execution_count": null,
      "outputs": []
    },
    {
      "cell_type": "markdown",
      "source": [
        "**Doble clic para responder:**"
      ],
      "metadata": {
        "id": "ax035civ1q22"
      }
    },
    {
      "cell_type": "markdown",
      "source": [
        "c) Estima las medidas de tendencia central y relaciónalas con tu respuesta anterior."
      ],
      "metadata": {
        "id": "RVpNsEZ11-pn"
      }
    },
    {
      "cell_type": "code",
      "source": [
        "\n",
        "\n"
      ],
      "metadata": {
        "id": "mIdrtPzM2ILy"
      },
      "execution_count": null,
      "outputs": []
    },
    {
      "cell_type": "markdown",
      "source": [
        "**Doble clic para responder:**"
      ],
      "metadata": {
        "id": "RG-IYYPP2Kqj"
      }
    },
    {
      "cell_type": "markdown",
      "source": [
        "d) En dónde existe más variación, ¿en los hogares con consumo bajo o con consumo alto? Elaborar gráfico."
      ],
      "metadata": {
        "id": "f4KNQcbe2OZX"
      }
    },
    {
      "cell_type": "code",
      "source": [
        "\n",
        "\n",
        "\n"
      ],
      "metadata": {
        "id": "k3NmDSXQ2Vta"
      },
      "execution_count": null,
      "outputs": []
    },
    {
      "cell_type": "markdown",
      "source": [
        "**Doble clic para responder:**"
      ],
      "metadata": {
        "id": "rgVTrjrE2W8g"
      }
    },
    {
      "cell_type": "markdown",
      "source": [
        "e)Estima las medidas de dispersión para los hogares con bajo y alto consumo de energía y relaciónalas con la respuesta anterior."
      ],
      "metadata": {
        "id": "DLyx1qQt2plE"
      }
    },
    {
      "cell_type": "code",
      "source": [
        "\n",
        "\n"
      ],
      "metadata": {
        "id": "p0qj6m3V2t-D"
      },
      "execution_count": null,
      "outputs": []
    },
    {
      "cell_type": "markdown",
      "source": [
        "**Dar doble clic para responder:**\n",
        "\n",
        "\n",
        "---\n",
        "\n"
      ],
      "metadata": {
        "id": "8gduNNxW2u4H"
      }
    },
    {
      "cell_type": "markdown",
      "source": [
        "###**Actividad 14.** Polígono de frecuencias y polígono de frecuencias acumuladas\n",
        "\n",
        "Utilizando la variable “Tiempo de Traslado”, realiza lo siguiente:"
      ],
      "metadata": {
        "id": "coYiVcKa2-Im"
      }
    },
    {
      "cell_type": "markdown",
      "source": [
        "**a) ¿Cuál fue el promedio de tiempo más común?**"
      ],
      "metadata": {
        "id": "_nTKG34e3lbS"
      }
    },
    {
      "cell_type": "code",
      "source": [
        "\n",
        "\n"
      ],
      "metadata": {
        "id": "8HKQ2oJi3qCD"
      },
      "execution_count": null,
      "outputs": []
    },
    {
      "cell_type": "markdown",
      "source": [
        "**Doble clic para responder:**"
      ],
      "metadata": {
        "id": "tI4Y04Q73r_m"
      }
    },
    {
      "cell_type": "markdown",
      "source": [
        "**¿Cuánto tiempo tardan en trasladarse el 50% de los estudiantes?**"
      ],
      "metadata": {
        "id": "cHLUrPIF3vnu"
      }
    },
    {
      "cell_type": "code",
      "source": [
        "\n",
        "\n"
      ],
      "metadata": {
        "id": "G3dD2gA130tL"
      },
      "execution_count": null,
      "outputs": []
    },
    {
      "cell_type": "markdown",
      "source": [
        "**Doble clic para responder:**\n",
        "\n",
        "\n",
        "---\n",
        "\n"
      ],
      "metadata": {
        "id": "EUxpZ92h31d5"
      }
    },
    {
      "cell_type": "markdown",
      "source": [
        "###**Actividad 15.** Polígono de frecuencias y polígono de frecuencia acumuladas\n",
        "\n",
        "<div style=\"text-align: justify\">\n",
        "Con la información correspondiente al consumo de energía eléctrica (proporcionada en la actividad 6), elaborar gráficos que permita dar respuesta a los siguientes cuestionamientos:\n",
        "<div/>"
      ],
      "metadata": {
        "id": "DtC0Tcm64BGA"
      }
    },
    {
      "cell_type": "markdown",
      "source": [
        "**Elaborar polígono de frecuencias y polígono de frecuencias acumuladas.**"
      ],
      "metadata": {
        "id": "xPaLpGk44d7A"
      }
    },
    {
      "cell_type": "code",
      "source": [
        "\n",
        "\n"
      ],
      "metadata": {
        "id": "VtmAQWUM4iM3"
      },
      "execution_count": null,
      "outputs": []
    },
    {
      "cell_type": "markdown",
      "source": [
        " **Escribir algunas conclusiones.**"
      ],
      "metadata": {
        "id": "o7vxSvpn4qNB"
      }
    },
    {
      "cell_type": "markdown",
      "source": [
        "###**Actividad 16.**Diagrama de dispersión \n",
        "\n",
        "<div style=\"text-align: justify\">\n",
        "Se realizó una encuesta a estudiantes que cursan la materia de Estadística con la finalidad de conocer el tiempo de estudio (minutos) que dedican a este curso. Los resultados se muestran a continuación:\n",
        "<div/>\n",
        "\n",
        "\n",
        "|                       Tiempo                    |\n",
        "|:------------------------------------------------|\n",
        "|45, 120, 40, 41, 77, 120, 51, 90, 27, 70, , 60, 30, 45, 90, 95, 35, 70, 60, 20, 42|\n",
        "\n",
        "|                 Calificación                    |\n",
        "|:------------------------------------------------|\n",
        "|5, 9, 5, 8, 5, 10, 8, 10, 7, 9, 6, 7, 8, 6, 9, 7, 5, 10, 5, 7|"
      ],
      "metadata": {
        "id": "jyHtJNmf4wvV"
      }
    },
    {
      "cell_type": "markdown",
      "source": [
        "**a)¿Cuál es la variable dependiente y cuál la independiente?**"
      ],
      "metadata": {
        "id": "uI0-T6mt7KGm"
      }
    },
    {
      "cell_type": "markdown",
      "source": [
        "**Doble clic para responder:**"
      ],
      "metadata": {
        "id": "ijPs48427WGr"
      }
    },
    {
      "cell_type": "markdown",
      "source": [
        "**b)¿Existe relación entre las variables? ​ ¿Cómo es   esta?**"
      ],
      "metadata": {
        "id": "qCRlc-p07bbp"
      }
    },
    {
      "cell_type": "code",
      "source": [
        "\n",
        "\n",
        "\n"
      ],
      "metadata": {
        "id": "DTSyb2rG7jFL"
      },
      "execution_count": null,
      "outputs": []
    },
    {
      "cell_type": "markdown",
      "source": [
        "**Doble clic para responder:**\n",
        "\n",
        "\n",
        "---\n",
        "\n"
      ],
      "metadata": {
        "id": "WDoJoRLU7kqU"
      }
    },
    {
      "cell_type": "markdown",
      "source": [
        "### **Actividad 17.**Diagrama de dispersión\n",
        "<div style=\"text-align: justify\">\n",
        "Con el uso de un procedimiento químico se midió la máxima corriente generada (en microamperes) cuando una solución que contenía una solución determinada de níquel (en partes por mil millones, ppmm) se agregó a un regulador.\n",
        "<div/>\n",
        "\n",
        "\n",
        "|                       Ni (ppb)                  |\n",
        "|:------------------------------------------------|\n",
        "|19.1, 38.2, 57.3, 76.2, 95, 114, 131, 150, 170|\n",
        "\n",
        "|               Corriente máximo (mA)             |\n",
        "|:------------------------------------------------|\n",
        "|0.095, 0.174, 0.256, 0.348, 0.429, 0.5, 0.58, 0.651, 0.722|"
      ],
      "metadata": {
        "id": "laVg-mYW70g4"
      }
    },
    {
      "cell_type": "markdown",
      "source": [
        "**a) ¿Cuál es la variable dependiente y cual la independiente?**"
      ],
      "metadata": {
        "id": "lpIEsjF89Vmi"
      }
    },
    {
      "cell_type": "code",
      "source": [
        "\n",
        "\n"
      ],
      "metadata": {
        "id": "pjwb2Ked9aCt"
      },
      "execution_count": null,
      "outputs": []
    },
    {
      "cell_type": "markdown",
      "source": [
        "**Doble clic para responder:**"
      ],
      "metadata": {
        "id": "F_NG3ywx9a-i"
      }
    },
    {
      "cell_type": "markdown",
      "source": [
        "**b) ¿Existe relación entre las variables? ¿Cómo es esta?**"
      ],
      "metadata": {
        "id": "3tmWyIvr9h7t"
      }
    },
    {
      "cell_type": "code",
      "source": [
        "\n",
        "\n"
      ],
      "metadata": {
        "id": "5hnZlTUg9rR5"
      },
      "execution_count": null,
      "outputs": []
    },
    {
      "cell_type": "markdown",
      "source": [
        "**Doble clic para responder:**"
      ],
      "metadata": {
        "id": "z-aOyZsP9sbp"
      }
    }
  ]
}